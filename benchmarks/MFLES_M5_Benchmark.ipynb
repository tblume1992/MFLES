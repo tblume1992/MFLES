{
  "cells": [
    {
      "cell_type": "code",
      "execution_count": 1,
      "metadata": {
        "colab": {
          "base_uri": "https://localhost:8080/"
        },
        "id": "oLAOeFpDDLdp",
        "outputId": "2c34fcbb-d0c1-4b78-ffa6-47a200a95667"
      },
      "outputs": [
        {
          "output_type": "stream",
          "name": "stdout",
          "text": [
            "Requirement already satisfied: datasetsforecast in /usr/local/lib/python3.10/dist-packages (0.0.8)\n",
            "Requirement already satisfied: aiohttp in /usr/local/lib/python3.10/dist-packages (from datasetsforecast) (3.9.3)\n",
            "Requirement already satisfied: fugue>=0.8.1 in /usr/local/lib/python3.10/dist-packages (from datasetsforecast) (0.8.7)\n",
            "Requirement already satisfied: numba in /usr/local/lib/python3.10/dist-packages (from datasetsforecast) (0.58.1)\n",
            "Requirement already satisfied: numpy in /usr/local/lib/python3.10/dist-packages (from datasetsforecast) (1.25.2)\n",
            "Requirement already satisfied: pandas in /usr/local/lib/python3.10/dist-packages (from datasetsforecast) (1.5.3)\n",
            "Requirement already satisfied: requests in /usr/local/lib/python3.10/dist-packages (from datasetsforecast) (2.31.0)\n",
            "Requirement already satisfied: tqdm in /usr/local/lib/python3.10/dist-packages (from datasetsforecast) (4.66.2)\n",
            "Requirement already satisfied: xlrd>=1.0.0 in /usr/local/lib/python3.10/dist-packages (from datasetsforecast) (2.0.1)\n",
            "Requirement already satisfied: triad>=0.9.3 in /usr/local/lib/python3.10/dist-packages (from fugue>=0.8.1->datasetsforecast) (0.9.5)\n",
            "Requirement already satisfied: adagio>=0.2.4 in /usr/local/lib/python3.10/dist-packages (from fugue>=0.8.1->datasetsforecast) (0.2.4)\n",
            "Requirement already satisfied: qpd>=0.4.4 in /usr/local/lib/python3.10/dist-packages (from fugue>=0.8.1->datasetsforecast) (0.4.4)\n",
            "Requirement already satisfied: fugue-sql-antlr>=0.1.6 in /usr/local/lib/python3.10/dist-packages (from fugue>=0.8.1->datasetsforecast) (0.2.0)\n",
            "Requirement already satisfied: sqlglot in /usr/local/lib/python3.10/dist-packages (from fugue>=0.8.1->datasetsforecast) (19.9.0)\n",
            "Requirement already satisfied: jinja2 in /usr/local/lib/python3.10/dist-packages (from fugue>=0.8.1->datasetsforecast) (3.1.3)\n",
            "Requirement already satisfied: aiosignal>=1.1.2 in /usr/local/lib/python3.10/dist-packages (from aiohttp->datasetsforecast) (1.3.1)\n",
            "Requirement already satisfied: attrs>=17.3.0 in /usr/local/lib/python3.10/dist-packages (from aiohttp->datasetsforecast) (23.2.0)\n",
            "Requirement already satisfied: frozenlist>=1.1.1 in /usr/local/lib/python3.10/dist-packages (from aiohttp->datasetsforecast) (1.4.1)\n",
            "Requirement already satisfied: multidict<7.0,>=4.5 in /usr/local/lib/python3.10/dist-packages (from aiohttp->datasetsforecast) (6.0.5)\n",
            "Requirement already satisfied: yarl<2.0,>=1.0 in /usr/local/lib/python3.10/dist-packages (from aiohttp->datasetsforecast) (1.9.4)\n",
            "Requirement already satisfied: async-timeout<5.0,>=4.0 in /usr/local/lib/python3.10/dist-packages (from aiohttp->datasetsforecast) (4.0.3)\n",
            "Requirement already satisfied: llvmlite<0.42,>=0.41.0dev0 in /usr/local/lib/python3.10/dist-packages (from numba->datasetsforecast) (0.41.1)\n",
            "Requirement already satisfied: python-dateutil>=2.8.1 in /usr/local/lib/python3.10/dist-packages (from pandas->datasetsforecast) (2.8.2)\n",
            "Requirement already satisfied: pytz>=2020.1 in /usr/local/lib/python3.10/dist-packages (from pandas->datasetsforecast) (2023.4)\n",
            "Requirement already satisfied: charset-normalizer<4,>=2 in /usr/local/lib/python3.10/dist-packages (from requests->datasetsforecast) (3.3.2)\n",
            "Requirement already satisfied: idna<4,>=2.5 in /usr/local/lib/python3.10/dist-packages (from requests->datasetsforecast) (3.6)\n",
            "Requirement already satisfied: urllib3<3,>=1.21.1 in /usr/local/lib/python3.10/dist-packages (from requests->datasetsforecast) (2.0.7)\n",
            "Requirement already satisfied: certifi>=2017.4.17 in /usr/local/lib/python3.10/dist-packages (from requests->datasetsforecast) (2024.2.2)\n",
            "Requirement already satisfied: antlr4-python3-runtime<4.12 in /usr/local/lib/python3.10/dist-packages (from fugue-sql-antlr>=0.1.6->fugue>=0.8.1->datasetsforecast) (4.11.1)\n",
            "Requirement already satisfied: packaging in /usr/local/lib/python3.10/dist-packages (from fugue-sql-antlr>=0.1.6->fugue>=0.8.1->datasetsforecast) (23.2)\n",
            "Requirement already satisfied: six>=1.5 in /usr/local/lib/python3.10/dist-packages (from python-dateutil>=2.8.1->pandas->datasetsforecast) (1.16.0)\n",
            "Requirement already satisfied: pyarrow>=6.0.1 in /usr/local/lib/python3.10/dist-packages (from triad>=0.9.3->fugue>=0.8.1->datasetsforecast) (10.0.1)\n",
            "Requirement already satisfied: fsspec>=2022.5.0 in /usr/local/lib/python3.10/dist-packages (from triad>=0.9.3->fugue>=0.8.1->datasetsforecast) (2023.6.0)\n",
            "Requirement already satisfied: fs in /usr/local/lib/python3.10/dist-packages (from triad>=0.9.3->fugue>=0.8.1->datasetsforecast) (2.4.16)\n",
            "Requirement already satisfied: MarkupSafe>=2.0 in /usr/local/lib/python3.10/dist-packages (from jinja2->fugue>=0.8.1->datasetsforecast) (2.1.5)\n",
            "Requirement already satisfied: appdirs~=1.4.3 in /usr/local/lib/python3.10/dist-packages (from fs->triad>=0.9.3->fugue>=0.8.1->datasetsforecast) (1.4.4)\n",
            "Requirement already satisfied: setuptools in /usr/local/lib/python3.10/dist-packages (from fs->triad>=0.9.3->fugue>=0.8.1->datasetsforecast) (67.7.2)\n"
          ]
        }
      ],
      "source": [
        "pip install datasetsforecast"
      ]
    },
    {
      "cell_type": "code",
      "execution_count": 2,
      "metadata": {
        "colab": {
          "base_uri": "https://localhost:8080/"
        },
        "id": "qKPXS-w2CrCd",
        "outputId": "70747032-2034-4538-eaa7-359f8ae42769"
      },
      "outputs": [
        {
          "output_type": "stream",
          "name": "stdout",
          "text": [
            "Requirement already satisfied: statsforecast in /usr/local/lib/python3.10/dist-packages (1.7.3)\n",
            "Requirement already satisfied: cloudpickle in /usr/local/lib/python3.10/dist-packages (from statsforecast) (2.2.1)\n",
            "Requirement already satisfied: numba>=0.55.0 in /usr/local/lib/python3.10/dist-packages (from statsforecast) (0.58.1)\n",
            "Requirement already satisfied: numpy>=1.21.6 in /usr/local/lib/python3.10/dist-packages (from statsforecast) (1.25.2)\n",
            "Requirement already satisfied: pandas>=1.3.5 in /usr/local/lib/python3.10/dist-packages (from statsforecast) (1.5.3)\n",
            "Requirement already satisfied: scipy>=1.7.3 in /usr/local/lib/python3.10/dist-packages (from statsforecast) (1.11.4)\n",
            "Requirement already satisfied: statsmodels>=0.13.2 in /usr/local/lib/python3.10/dist-packages (from statsforecast) (0.14.1)\n",
            "Requirement already satisfied: tqdm in /usr/local/lib/python3.10/dist-packages (from statsforecast) (4.66.2)\n",
            "Requirement already satisfied: fugue>=0.8.1 in /usr/local/lib/python3.10/dist-packages (from statsforecast) (0.8.7)\n",
            "Requirement already satisfied: utilsforecast>=0.0.24 in /usr/local/lib/python3.10/dist-packages (from statsforecast) (0.0.27)\n",
            "Requirement already satisfied: threadpoolctl in /usr/local/lib/python3.10/dist-packages (from statsforecast) (3.2.0)\n",
            "Requirement already satisfied: triad>=0.9.3 in /usr/local/lib/python3.10/dist-packages (from fugue>=0.8.1->statsforecast) (0.9.5)\n",
            "Requirement already satisfied: adagio>=0.2.4 in /usr/local/lib/python3.10/dist-packages (from fugue>=0.8.1->statsforecast) (0.2.4)\n",
            "Requirement already satisfied: qpd>=0.4.4 in /usr/local/lib/python3.10/dist-packages (from fugue>=0.8.1->statsforecast) (0.4.4)\n",
            "Requirement already satisfied: fugue-sql-antlr>=0.1.6 in /usr/local/lib/python3.10/dist-packages (from fugue>=0.8.1->statsforecast) (0.2.0)\n",
            "Requirement already satisfied: sqlglot in /usr/local/lib/python3.10/dist-packages (from fugue>=0.8.1->statsforecast) (19.9.0)\n",
            "Requirement already satisfied: jinja2 in /usr/local/lib/python3.10/dist-packages (from fugue>=0.8.1->statsforecast) (3.1.3)\n",
            "Requirement already satisfied: llvmlite<0.42,>=0.41.0dev0 in /usr/local/lib/python3.10/dist-packages (from numba>=0.55.0->statsforecast) (0.41.1)\n",
            "Requirement already satisfied: python-dateutil>=2.8.1 in /usr/local/lib/python3.10/dist-packages (from pandas>=1.3.5->statsforecast) (2.8.2)\n",
            "Requirement already satisfied: pytz>=2020.1 in /usr/local/lib/python3.10/dist-packages (from pandas>=1.3.5->statsforecast) (2023.4)\n",
            "Requirement already satisfied: patsy>=0.5.4 in /usr/local/lib/python3.10/dist-packages (from statsmodels>=0.13.2->statsforecast) (0.5.6)\n",
            "Requirement already satisfied: packaging>=21.3 in /usr/local/lib/python3.10/dist-packages (from statsmodels>=0.13.2->statsforecast) (23.2)\n",
            "Requirement already satisfied: antlr4-python3-runtime<4.12 in /usr/local/lib/python3.10/dist-packages (from fugue-sql-antlr>=0.1.6->fugue>=0.8.1->statsforecast) (4.11.1)\n",
            "Requirement already satisfied: six in /usr/local/lib/python3.10/dist-packages (from patsy>=0.5.4->statsmodels>=0.13.2->statsforecast) (1.16.0)\n",
            "Requirement already satisfied: pyarrow>=6.0.1 in /usr/local/lib/python3.10/dist-packages (from triad>=0.9.3->fugue>=0.8.1->statsforecast) (10.0.1)\n",
            "Requirement already satisfied: fsspec>=2022.5.0 in /usr/local/lib/python3.10/dist-packages (from triad>=0.9.3->fugue>=0.8.1->statsforecast) (2023.6.0)\n",
            "Requirement already satisfied: fs in /usr/local/lib/python3.10/dist-packages (from triad>=0.9.3->fugue>=0.8.1->statsforecast) (2.4.16)\n",
            "Requirement already satisfied: MarkupSafe>=2.0 in /usr/local/lib/python3.10/dist-packages (from jinja2->fugue>=0.8.1->statsforecast) (2.1.5)\n",
            "Requirement already satisfied: appdirs~=1.4.3 in /usr/local/lib/python3.10/dist-packages (from fs->triad>=0.9.3->fugue>=0.8.1->statsforecast) (1.4.4)\n",
            "Requirement already satisfied: setuptools in /usr/local/lib/python3.10/dist-packages (from fs->triad>=0.9.3->fugue>=0.8.1->statsforecast) (67.7.2)\n"
          ]
        }
      ],
      "source": [
        "pip install statsforecast"
      ]
    },
    {
      "cell_type": "code",
      "execution_count": 3,
      "metadata": {
        "colab": {
          "base_uri": "https://localhost:8080/"
        },
        "id": "-R3dA1NrCtTl",
        "outputId": "7d760d2d-c01f-4faf-8d99-3ba4a655bc41"
      },
      "outputs": [
        {
          "output_type": "stream",
          "name": "stdout",
          "text": [
            "Requirement already satisfied: mfles in /usr/local/lib/python3.10/dist-packages (0.2.4)\n",
            "Requirement already satisfied: numpy in /usr/local/lib/python3.10/dist-packages (from mfles) (1.25.2)\n",
            "Requirement already satisfied: pandas in /usr/local/lib/python3.10/dist-packages (from mfles) (1.5.3)\n",
            "Requirement already satisfied: tqdm in /usr/local/lib/python3.10/dist-packages (from mfles) (4.66.2)\n",
            "Requirement already satisfied: numba in /usr/local/lib/python3.10/dist-packages (from mfles) (0.58.1)\n",
            "Requirement already satisfied: matplotlib in /usr/local/lib/python3.10/dist-packages (from mfles) (3.7.1)\n",
            "Requirement already satisfied: contourpy>=1.0.1 in /usr/local/lib/python3.10/dist-packages (from matplotlib->mfles) (1.2.0)\n",
            "Requirement already satisfied: cycler>=0.10 in /usr/local/lib/python3.10/dist-packages (from matplotlib->mfles) (0.12.1)\n",
            "Requirement already satisfied: fonttools>=4.22.0 in /usr/local/lib/python3.10/dist-packages (from matplotlib->mfles) (4.48.1)\n",
            "Requirement already satisfied: kiwisolver>=1.0.1 in /usr/local/lib/python3.10/dist-packages (from matplotlib->mfles) (1.4.5)\n",
            "Requirement already satisfied: packaging>=20.0 in /usr/local/lib/python3.10/dist-packages (from matplotlib->mfles) (23.2)\n",
            "Requirement already satisfied: pillow>=6.2.0 in /usr/local/lib/python3.10/dist-packages (from matplotlib->mfles) (9.4.0)\n",
            "Requirement already satisfied: pyparsing>=2.3.1 in /usr/local/lib/python3.10/dist-packages (from matplotlib->mfles) (3.1.1)\n",
            "Requirement already satisfied: python-dateutil>=2.7 in /usr/local/lib/python3.10/dist-packages (from matplotlib->mfles) (2.8.2)\n",
            "Requirement already satisfied: llvmlite<0.42,>=0.41.0dev0 in /usr/local/lib/python3.10/dist-packages (from numba->mfles) (0.41.1)\n",
            "Requirement already satisfied: pytz>=2020.1 in /usr/local/lib/python3.10/dist-packages (from pandas->mfles) (2023.4)\n",
            "Requirement already satisfied: six>=1.5 in /usr/local/lib/python3.10/dist-packages (from python-dateutil>=2.7->matplotlib->mfles) (1.16.0)\n"
          ]
        }
      ],
      "source": [
        "pip install mfles"
      ]
    },
    {
      "cell_type": "code",
      "execution_count": 4,
      "metadata": {
        "id": "LKDCFsBEV2z5"
      },
      "outputs": [],
      "source": [
        "import pandas as pd\n",
        "\n",
        "Y_df_m5 = pd.read_parquet('https://m5-benchmarks.s3.amazonaws.com/data/train/target.parquet')\n",
        "\n",
        "Y_df_m5 = Y_df_m5.rename(columns={\n",
        "    'item_id': 'unique_id',\n",
        "    'timestamp': 'ds',\n",
        "    'demand': 'y'\n",
        "})\n",
        "\n",
        "Y_df_m5.head()\n",
        "Y_df_m5['unique_id'] = Y_df_m5['unique_id'].astype(str)\n"
      ]
    },
    {
      "cell_type": "code",
      "execution_count": 5,
      "metadata": {
        "id": "NOmwkVLxRDHq"
      },
      "outputs": [],
      "source": [
        "Y_df_m5 = Y_df_m5.sort_values(['ds'],ascending=False)\n",
        "Y_df_m5['count'] = Y_df_m5.groupby('unique_id').cumcount()"
      ]
    },
    {
      "cell_type": "code",
      "execution_count": 6,
      "metadata": {
        "colab": {
          "base_uri": "https://localhost:8080/"
        },
        "id": "vfnIZENzCZjU",
        "outputId": "5c16cc12-3263-4c1c-d539-7f84d2f04da1"
      },
      "outputs": [
        {
          "output_type": "stream",
          "name": "stderr",
          "text": [
            "/usr/local/lib/python3.10/dist-packages/MFLES/Model.py:41: NumbaDeprecationWarning: The 'nopython' keyword argument was not supplied to the 'numba.jit' decorator. The implicit default value for this argument is currently False, but it will be changed to True in Numba 0.59.0. See https://numba.readthedocs.io/en/stable/reference/deprecation.html#deprecation-of-object-mode-fall-back-behaviour-when-using-jit for details.\n",
            "  def lasso_nb(X, y, alpha, tol=0.001, maxiter=10000):\n",
            "/usr/local/lib/python3.10/dist-packages/MFLES/Model.py:164: NumbaDeprecationWarning: The 'nopython' keyword argument was not supplied to the 'numba.jit' decorator. The implicit default value for this argument is currently False, but it will be changed to True in Numba 0.59.0. See https://numba.readthedocs.io/en/stable/reference/deprecation.html#deprecation-of-object-mode-fall-back-behaviour-when-using-jit for details.\n",
            "  def median(y, seasonal_period):\n",
            "/usr/local/lib/python3.10/dist-packages/MFLES/Model.py:180: NumbaDeprecationWarning: The 'nopython' keyword argument was not supplied to the 'numba.jit' decorator. The implicit default value for this argument is currently False, but it will be changed to True in Numba 0.59.0. See https://numba.readthedocs.io/en/stable/reference/deprecation.html#deprecation-of-object-mode-fall-back-behaviour-when-using-jit for details.\n",
            "  def ols(X, y):\n",
            "/usr/local/lib/python3.10/dist-packages/MFLES/Model.py:185: NumbaDeprecationWarning: The 'nopython' keyword argument was not supplied to the 'numba.jit' decorator. The implicit default value for this argument is currently False, but it will be changed to True in Numba 0.59.0. See https://numba.readthedocs.io/en/stable/reference/deprecation.html#deprecation-of-object-mode-fall-back-behaviour-when-using-jit for details.\n",
            "  def wls(X, y, weights):\n",
            "/usr/local/lib/python3.10/dist-packages/MFLES/Model.py:191: NumbaDeprecationWarning: The 'nopython' keyword argument was not supplied to the 'numba.jit' decorator. The implicit default value for this argument is currently False, but it will be changed to True in Numba 0.59.0. See https://numba.readthedocs.io/en/stable/reference/deprecation.html#deprecation-of-object-mode-fall-back-behaviour-when-using-jit for details.\n",
            "  def _ols(X, y):\n",
            "/usr/local/lib/python3.10/dist-packages/MFLES/Model.py:196: NumbaDeprecationWarning: The 'nopython' keyword argument was not supplied to the 'numba.jit' decorator. The implicit default value for this argument is currently False, but it will be changed to True in Numba 0.59.0. See https://numba.readthedocs.io/en/stable/reference/deprecation.html#deprecation-of-object-mode-fall-back-behaviour-when-using-jit for details.\n",
            "  def ridge(X, y, lam):\n",
            "/usr/local/lib/python3.10/dist-packages/MFLES/FeatureEngineering.py:81: NumbaDeprecationWarning: The 'nopython' keyword argument was not supplied to the 'numba.jit' decorator. The implicit default value for this argument is currently False, but it will be changed to True in Numba 0.59.0. See https://numba.readthedocs.io/en/stable/reference/deprecation.html#deprecation-of-object-mode-fall-back-behaviour-when-using-jit for details.\n",
            "  def get_future_basis(basis_functions, forecast_horizon):\n",
            "  0%|          | 1/30490 [00:14<125:01:49, 14.76s/it]/usr/local/lib/python3.10/dist-packages/MFLES/Model.py:184: NumbaWarning: \n",
            "Compilation is falling back to object mode WITH looplifting enabled because Function \"wls\" failed type inference due to: No implementation of function Function(<function diag at 0x7d467233ee60>) found for signature:\n",
            " \n",
            " >>> diag(reflected list(int64)<iv=None>)\n",
            " \n",
            "There are 2 candidate implementations:\n",
            "  - Of which 2 did not match due to:\n",
            "  Overload of function 'diag': File: numba/np/arrayobj.py: Line 4573.\n",
            "    With argument(s): '(reflected list(int64)<iv=None>)':\n",
            "   No match.\n",
            "\n",
            "During: resolving callee type: Function(<function diag at 0x7d467233ee60>)\n",
            "During: typing of call at /usr/local/lib/python3.10/dist-packages/MFLES/Model.py (186)\n",
            "\n",
            "\n",
            "File \"../usr/local/lib/python3.10/dist-packages/MFLES/Model.py\", line 186:\n",
            "def wls(X, y, weights):\n",
            "    weighted_X_T = X.T @ np.diag(weights)\n",
            "    ^\n",
            "\n",
            "  @jit\n",
            "/usr/local/lib/python3.10/dist-packages/numba/core/object_mode_passes.py:151: NumbaWarning: Function \"wls\" was compiled in object mode without forceobj=True.\n",
            "\n",
            "File \"../usr/local/lib/python3.10/dist-packages/MFLES/Model.py\", line 185:\n",
            "@jit\n",
            "def wls(X, y, weights):\n",
            "^\n",
            "\n",
            "  warnings.warn(errors.NumbaWarning(warn_msg,\n",
            "/usr/local/lib/python3.10/dist-packages/numba/core/object_mode_passes.py:161: NumbaDeprecationWarning: \n",
            "Fall-back from the nopython compilation path to the object mode compilation path has been detected. This is deprecated behaviour that will be removed in Numba 0.59.0.\n",
            "\n",
            "For more information visit https://numba.readthedocs.io/en/stable/reference/deprecation.html#deprecation-of-object-mode-fall-back-behaviour-when-using-jit\n",
            "\n",
            "File \"../usr/local/lib/python3.10/dist-packages/MFLES/Model.py\", line 185:\n",
            "@jit\n",
            "def wls(X, y, weights):\n",
            "^\n",
            "\n",
            "  warnings.warn(errors.NumbaDeprecationWarning(msg,\n",
            "  0%|          | 102/30490 [02:08<9:26:11,  1.12s/it] /usr/local/lib/python3.10/dist-packages/MFLES/Model.py:53: NumbaPerformanceWarning: np.dot() is faster on contiguous arrays, called on (Array(float64, 1, 'A', False, aligned=True), Array(float64, 1, 'C', False, aligned=True))\n",
            "  tmp = np.dot(X[:, ii], R)\n",
            "100%|██████████| 30490/30490 [7:09:36<00:00,  1.18it/s]\n"
          ]
        }
      ],
      "source": [
        "import pandas as pd\n",
        "\n",
        "from MFLES.Forecaster import optimize_from_df\n",
        "\n",
        "configs = { #params to try out to optimize for\n",
        "    'smoother': [True, False], #test both ETS and SMA\n",
        "    'ma': [7], #smooth out one seasonal period when using moving average\n",
        "    'seasonality_weights': [True],\n",
        "    'seasonal_period': [None, [7], [7, 30, 365]], #try both types of possible seasonality\n",
        "    }\n",
        "\n",
        "short_df = Y_df_m5[Y_df_m5['unique_id'].isin(Y_df_m5['unique_id'].unique()[:5])] #did this for testing\n",
        "output = optimize_from_df(Y_df_m5,\n",
        "                          forecast_horizon=28,\n",
        "                          test_size=14,\n",
        "                          n_steps=1, #don't do rolling testing to save time / rolling should make the optimization better\n",
        "                          metric='mse',\n",
        "                          params=configs,\n",
        "                          verbose=False,\n",
        "                          seasonal_period=[7, 30],\n",
        "                          freq='D')\n",
        "\n",
        "output = output.fillna('forecast_set')\n",
        "output = output[output['y'] == 'forecast_set']"
      ]
    },
    {
      "cell_type": "code",
      "execution_count": 7,
      "metadata": {
        "id": "Q13o2F5XfOop"
      },
      "outputs": [],
      "source": [
        "output = output.reset_index(drop=True).set_index('unique_id')"
      ]
    },
    {
      "cell_type": "code",
      "execution_count": 8,
      "metadata": {
        "id": "ucQBa8nbDHvi"
      },
      "outputs": [],
      "source": [
        "from datasetsforecast.m5 import M5, M5Evaluation"
      ]
    },
    {
      "cell_type": "code",
      "execution_count": 9,
      "metadata": {
        "colab": {
          "base_uri": "https://localhost:8080/"
        },
        "id": "nBGEUdoVDJiB",
        "outputId": "91b7ef01-3a15-4ed3-91ff-91837032c280"
      },
      "outputs": [
        {
          "output_type": "stream",
          "name": "stderr",
          "text": [
            "/usr/local/lib/python3.10/dist-packages/statsforecast/core.py:26: TqdmExperimentalWarning: Using `tqdm.autonotebook.tqdm` in notebook mode. Use `tqdm.tqdm` instead to force console mode (e.g. in jupyter console)\n",
            "  from tqdm.autonotebook import tqdm\n"
          ]
        }
      ],
      "source": [
        "from datasetsforecast.m5 import M5, M5Evaluation\n",
        "from statsforecast import StatsForecast\n",
        "\n",
        "### Evaluator\n",
        "def evaluate_forecasts(df, model, model_name):\n",
        "    Y_hat = df.set_index('ds', append=True)[model].unstack()\n",
        "    *_, S_df = M5.load('data')\n",
        "    Y_hat = S_df.merge(Y_hat, how='left', on=['unique_id'])\n",
        "    eval_ = M5Evaluation.evaluate(y_hat=Y_hat, directory='./data')\n",
        "    eval_ = eval_.rename(columns={'wrmsse': f'{model_name}_{model}_wrmsse'})\n",
        "    return eval_"
      ]
    },
    {
      "cell_type": "code",
      "execution_count": 10,
      "metadata": {
        "colab": {
          "base_uri": "https://localhost:8080/",
          "height": 81
        },
        "id": "VqUojhs3D4B-",
        "outputId": "48a5f621-f684-4c16-9069-8089789116ab"
      },
      "outputs": [
        {
          "output_type": "execute_result",
          "data": {
            "text/plain": [
              "                       Total    Level1    Level2    Level3   Level4    Level5  \\\n",
              "MFLES_mfles_wrmsse  0.643943  0.365268  0.474021  0.543244  0.41759  0.498432   \n",
              "\n",
              "                      Level6    Level7    Level8    Level9   Level10  \\\n",
              "MFLES_mfles_wrmsse  0.545146  0.615165  0.614845  0.701979  1.024448   \n",
              "\n",
              "                     Level11   Level12  \n",
              "MFLES_mfles_wrmsse  0.986423  0.940751  "
            ],
            "text/html": [
              "\n",
              "  <div id=\"df-9278805a-580d-4937-bcd9-aca599894ee2\" class=\"colab-df-container\">\n",
              "    <div>\n",
              "<style scoped>\n",
              "    .dataframe tbody tr th:only-of-type {\n",
              "        vertical-align: middle;\n",
              "    }\n",
              "\n",
              "    .dataframe tbody tr th {\n",
              "        vertical-align: top;\n",
              "    }\n",
              "\n",
              "    .dataframe thead th {\n",
              "        text-align: right;\n",
              "    }\n",
              "</style>\n",
              "<table border=\"1\" class=\"dataframe\">\n",
              "  <thead>\n",
              "    <tr style=\"text-align: right;\">\n",
              "      <th></th>\n",
              "      <th>Total</th>\n",
              "      <th>Level1</th>\n",
              "      <th>Level2</th>\n",
              "      <th>Level3</th>\n",
              "      <th>Level4</th>\n",
              "      <th>Level5</th>\n",
              "      <th>Level6</th>\n",
              "      <th>Level7</th>\n",
              "      <th>Level8</th>\n",
              "      <th>Level9</th>\n",
              "      <th>Level10</th>\n",
              "      <th>Level11</th>\n",
              "      <th>Level12</th>\n",
              "    </tr>\n",
              "  </thead>\n",
              "  <tbody>\n",
              "    <tr>\n",
              "      <th>MFLES_mfles_wrmsse</th>\n",
              "      <td>0.643943</td>\n",
              "      <td>0.365268</td>\n",
              "      <td>0.474021</td>\n",
              "      <td>0.543244</td>\n",
              "      <td>0.41759</td>\n",
              "      <td>0.498432</td>\n",
              "      <td>0.545146</td>\n",
              "      <td>0.615165</td>\n",
              "      <td>0.614845</td>\n",
              "      <td>0.701979</td>\n",
              "      <td>1.024448</td>\n",
              "      <td>0.986423</td>\n",
              "      <td>0.940751</td>\n",
              "    </tr>\n",
              "  </tbody>\n",
              "</table>\n",
              "</div>\n",
              "    <div class=\"colab-df-buttons\">\n",
              "\n",
              "  <div class=\"colab-df-container\">\n",
              "    <button class=\"colab-df-convert\" onclick=\"convertToInteractive('df-9278805a-580d-4937-bcd9-aca599894ee2')\"\n",
              "            title=\"Convert this dataframe to an interactive table.\"\n",
              "            style=\"display:none;\">\n",
              "\n",
              "  <svg xmlns=\"http://www.w3.org/2000/svg\" height=\"24px\" viewBox=\"0 -960 960 960\">\n",
              "    <path d=\"M120-120v-720h720v720H120Zm60-500h600v-160H180v160Zm220 220h160v-160H400v160Zm0 220h160v-160H400v160ZM180-400h160v-160H180v160Zm440 0h160v-160H620v160ZM180-180h160v-160H180v160Zm440 0h160v-160H620v160Z\"/>\n",
              "  </svg>\n",
              "    </button>\n",
              "\n",
              "  <style>\n",
              "    .colab-df-container {\n",
              "      display:flex;\n",
              "      gap: 12px;\n",
              "    }\n",
              "\n",
              "    .colab-df-convert {\n",
              "      background-color: #E8F0FE;\n",
              "      border: none;\n",
              "      border-radius: 50%;\n",
              "      cursor: pointer;\n",
              "      display: none;\n",
              "      fill: #1967D2;\n",
              "      height: 32px;\n",
              "      padding: 0 0 0 0;\n",
              "      width: 32px;\n",
              "    }\n",
              "\n",
              "    .colab-df-convert:hover {\n",
              "      background-color: #E2EBFA;\n",
              "      box-shadow: 0px 1px 2px rgba(60, 64, 67, 0.3), 0px 1px 3px 1px rgba(60, 64, 67, 0.15);\n",
              "      fill: #174EA6;\n",
              "    }\n",
              "\n",
              "    .colab-df-buttons div {\n",
              "      margin-bottom: 4px;\n",
              "    }\n",
              "\n",
              "    [theme=dark] .colab-df-convert {\n",
              "      background-color: #3B4455;\n",
              "      fill: #D2E3FC;\n",
              "    }\n",
              "\n",
              "    [theme=dark] .colab-df-convert:hover {\n",
              "      background-color: #434B5C;\n",
              "      box-shadow: 0px 1px 3px 1px rgba(0, 0, 0, 0.15);\n",
              "      filter: drop-shadow(0px 1px 2px rgba(0, 0, 0, 0.3));\n",
              "      fill: #FFFFFF;\n",
              "    }\n",
              "  </style>\n",
              "\n",
              "    <script>\n",
              "      const buttonEl =\n",
              "        document.querySelector('#df-9278805a-580d-4937-bcd9-aca599894ee2 button.colab-df-convert');\n",
              "      buttonEl.style.display =\n",
              "        google.colab.kernel.accessAllowed ? 'block' : 'none';\n",
              "\n",
              "      async function convertToInteractive(key) {\n",
              "        const element = document.querySelector('#df-9278805a-580d-4937-bcd9-aca599894ee2');\n",
              "        const dataTable =\n",
              "          await google.colab.kernel.invokeFunction('convertToInteractive',\n",
              "                                                    [key], {});\n",
              "        if (!dataTable) return;\n",
              "\n",
              "        const docLinkHtml = 'Like what you see? Visit the ' +\n",
              "          '<a target=\"_blank\" href=https://colab.research.google.com/notebooks/data_table.ipynb>data table notebook</a>'\n",
              "          + ' to learn more about interactive tables.';\n",
              "        element.innerHTML = '';\n",
              "        dataTable['output_type'] = 'display_data';\n",
              "        await google.colab.output.renderOutput(dataTable, element);\n",
              "        const docLink = document.createElement('div');\n",
              "        docLink.innerHTML = docLinkHtml;\n",
              "        element.appendChild(docLink);\n",
              "      }\n",
              "    </script>\n",
              "  </div>\n",
              "\n",
              "\n",
              "    </div>\n",
              "  </div>\n"
            ],
            "application/vnd.google.colaboratory.intrinsic+json": {
              "type": "dataframe",
              "summary": "{\n  \"name\": \"m5_eval_df\",\n  \"rows\": 1,\n  \"fields\": [\n    {\n      \"column\": \"Total\",\n      \"properties\": {\n        \"dtype\": \"number\",\n        \"std\": NaN,\n        \"min\": 0.6439426954532277,\n        \"max\": 0.6439426954532277,\n        \"samples\": [\n          0.6439426954532277\n        ],\n        \"num_unique_values\": 1,\n        \"semantic_type\": \"\",\n        \"description\": \"\"\n      }\n    },\n    {\n      \"column\": \"Level1\",\n      \"properties\": {\n        \"dtype\": \"number\",\n        \"std\": NaN,\n        \"min\": 0.3652675055823769,\n        \"max\": 0.3652675055823769,\n        \"samples\": [\n          0.3652675055823769\n        ],\n        \"num_unique_values\": 1,\n        \"semantic_type\": \"\",\n        \"description\": \"\"\n      }\n    },\n    {\n      \"column\": \"Level2\",\n      \"properties\": {\n        \"dtype\": \"number\",\n        \"std\": NaN,\n        \"min\": 0.4740210191082902,\n        \"max\": 0.4740210191082902,\n        \"samples\": [\n          0.4740210191082902\n        ],\n        \"num_unique_values\": 1,\n        \"semantic_type\": \"\",\n        \"description\": \"\"\n      }\n    },\n    {\n      \"column\": \"Level3\",\n      \"properties\": {\n        \"dtype\": \"number\",\n        \"std\": NaN,\n        \"min\": 0.5432435415382033,\n        \"max\": 0.5432435415382033,\n        \"samples\": [\n          0.5432435415382033\n        ],\n        \"num_unique_values\": 1,\n        \"semantic_type\": \"\",\n        \"description\": \"\"\n      }\n    },\n    {\n      \"column\": \"Level4\",\n      \"properties\": {\n        \"dtype\": \"number\",\n        \"std\": NaN,\n        \"min\": 0.41758983682075534,\n        \"max\": 0.41758983682075534,\n        \"samples\": [\n          0.41758983682075534\n        ],\n        \"num_unique_values\": 1,\n        \"semantic_type\": \"\",\n        \"description\": \"\"\n      }\n    },\n    {\n      \"column\": \"Level5\",\n      \"properties\": {\n        \"dtype\": \"number\",\n        \"std\": NaN,\n        \"min\": 0.4984319555103645,\n        \"max\": 0.4984319555103645,\n        \"samples\": [\n          0.4984319555103645\n        ],\n        \"num_unique_values\": 1,\n        \"semantic_type\": \"\",\n        \"description\": \"\"\n      }\n    },\n    {\n      \"column\": \"Level6\",\n      \"properties\": {\n        \"dtype\": \"number\",\n        \"std\": NaN,\n        \"min\": 0.5451459756568088,\n        \"max\": 0.5451459756568088,\n        \"samples\": [\n          0.5451459756568088\n        ],\n        \"num_unique_values\": 1,\n        \"semantic_type\": \"\",\n        \"description\": \"\"\n      }\n    },\n    {\n      \"column\": \"Level7\",\n      \"properties\": {\n        \"dtype\": \"number\",\n        \"std\": NaN,\n        \"min\": 0.6151654297111726,\n        \"max\": 0.6151654297111726,\n        \"samples\": [\n          0.6151654297111726\n        ],\n        \"num_unique_values\": 1,\n        \"semantic_type\": \"\",\n        \"description\": \"\"\n      }\n    },\n    {\n      \"column\": \"Level8\",\n      \"properties\": {\n        \"dtype\": \"number\",\n        \"std\": NaN,\n        \"min\": 0.6148451617469534,\n        \"max\": 0.6148451617469534,\n        \"samples\": [\n          0.6148451617469534\n        ],\n        \"num_unique_values\": 1,\n        \"semantic_type\": \"\",\n        \"description\": \"\"\n      }\n    },\n    {\n      \"column\": \"Level9\",\n      \"properties\": {\n        \"dtype\": \"number\",\n        \"std\": NaN,\n        \"min\": 0.7019791482174842,\n        \"max\": 0.7019791482174842,\n        \"samples\": [\n          0.7019791482174842\n        ],\n        \"num_unique_values\": 1,\n        \"semantic_type\": \"\",\n        \"description\": \"\"\n      }\n    },\n    {\n      \"column\": \"Level10\",\n      \"properties\": {\n        \"dtype\": \"number\",\n        \"std\": NaN,\n        \"min\": 1.0244483492032346,\n        \"max\": 1.0244483492032346,\n        \"samples\": [\n          1.0244483492032346\n        ],\n        \"num_unique_values\": 1,\n        \"semantic_type\": \"\",\n        \"description\": \"\"\n      }\n    },\n    {\n      \"column\": \"Level11\",\n      \"properties\": {\n        \"dtype\": \"number\",\n        \"std\": NaN,\n        \"min\": 0.9864229573319374,\n        \"max\": 0.9864229573319374,\n        \"samples\": [\n          0.9864229573319374\n        ],\n        \"num_unique_values\": 1,\n        \"semantic_type\": \"\",\n        \"description\": \"\"\n      }\n    },\n    {\n      \"column\": \"Level12\",\n      \"properties\": {\n        \"dtype\": \"number\",\n        \"std\": NaN,\n        \"min\": 0.9407514650111505,\n        \"max\": 0.9407514650111505,\n        \"samples\": [\n          0.9407514650111505\n        ],\n        \"num_unique_values\": 1,\n        \"semantic_type\": \"\",\n        \"description\": \"\"\n      }\n    }\n  ]\n}"
            }
          },
          "metadata": {},
          "execution_count": 10
        }
      ],
      "source": [
        "m5_eval_df = pd.concat([\n",
        "    evaluate_forecasts(output[['mfles', 'ds']], 'mfles', 'MFLES'),\n",
        "], axis=1)\n",
        "m5_eval_df.T"
      ]
    },
    {
      "cell_type": "code",
      "execution_count": 11,
      "metadata": {
        "colab": {
          "base_uri": "https://localhost:8080/"
        },
        "id": "2da8oSrjOumr",
        "outputId": "e1ff538d-5c91-400e-c4f4-d1313bd64eec"
      },
      "outputs": [
        {
          "output_type": "stream",
          "name": "stdout",
          "text": [
            "                       Total    Level1    Level2    Level3   Level4    Level5  \\\n",
            "MFLES_mfles_wrmsse  0.643943  0.365268  0.474021  0.543244  0.41759  0.498432   \n",
            "\n",
            "                      Level6    Level7    Level8    Level9   Level10  \\\n",
            "MFLES_mfles_wrmsse  0.545146  0.615165  0.614845  0.701979  1.024448   \n",
            "\n",
            "                     Level11   Level12  \n",
            "MFLES_mfles_wrmsse  0.986423  0.940751  \n"
          ]
        }
      ],
      "source": [
        "print(m5_eval_df.T)"
      ]
    }
  ],
  "metadata": {
    "colab": {
      "machine_shape": "hm",
      "provenance": []
    },
    "kernelspec": {
      "display_name": "Python 3",
      "name": "python3"
    },
    "language_info": {
      "name": "python"
    }
  },
  "nbformat": 4,
  "nbformat_minor": 0
}